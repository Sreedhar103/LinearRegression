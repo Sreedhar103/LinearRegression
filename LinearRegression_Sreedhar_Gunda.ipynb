{
 "cells": [
  {
   "cell_type": "markdown",
   "id": "ea1a8437",
   "metadata": {},
   "source": [
    "Lending Club company is the largest online loan marketplace, facilitating personal loans, business loans, and financing of medical procedures. Borrowers can easily access lower interest rate loans through a fast online interface.  \n",
    "\n",
    "Company wants to do analysis to make their business profitable and customer friendly. So Like most other lending companies, lending loans to ‘risky’ applicants is the largest source of financial loss (called credit loss). Credit loss is the amount of money lost by the lender when the borrower refuses to pay or runs away with the money owed. In other words, borrowers who default cause the largest amount of loss to the lenders. In this case, the customers labelled as 'charged-off' are the 'defaulters'. If one is able to identify these risky loan applicants, then such loans can be reduced thereby cutting down the amount of credit loss. Identification of such applicants using EDA is the aim of this case study.\n",
    "\n",
    " \n",
    "***Problem Statement***:\n",
    "The company wants to understand the driving factors (or driver variables) behind loan default, i.e. the variables which are strong indicators of default.  The company can utilise this knowledge for its portfolio and risk assessment. "
   ]
  },
  {
   "cell_type": "code",
   "execution_count": 41,
   "id": "782bf7c6",
   "metadata": {},
   "outputs": [],
   "source": [
    "#Import all the needed libraries \n",
    "import pandas as pd\n",
    "import matplotlib.pyplot as plt\n",
    "import numpy as np\n",
    "import seaborn as sns\n",
    "import warnings\n",
    "warnings.filterwarnings('ignore')"
   ]
  },
  {
   "cell_type": "code",
   "execution_count": 42,
   "id": "da41f446",
   "metadata": {},
   "outputs": [],
   "source": [
    "#Load the dataset and check for the top 5 rows\n",
    "ds = pd.read_csv(\"loan.csv\")"
   ]
  },
  {
   "cell_type": "code",
   "execution_count": 43,
   "id": "2c2fae8c",
   "metadata": {},
   "outputs": [
    {
     "data": {
      "text/plain": [
       "(39717, 111)"
      ]
     },
     "execution_count": 43,
     "metadata": {},
     "output_type": "execute_result"
    }
   ],
   "source": [
    "ds.shape"
   ]
  },
  {
   "cell_type": "code",
   "execution_count": 44,
   "id": "77105b82",
   "metadata": {},
   "outputs": [
    {
     "data": {
      "text/plain": [
       "(39717, 57)"
      ]
     },
     "execution_count": 44,
     "metadata": {},
     "output_type": "execute_result"
    }
   ],
   "source": [
    "#Drop all the columns that contains only NA as values\n",
    "ds=ds.dropna(axis='columns',how='all')\n",
    "ds.shape"
   ]
  },
  {
   "cell_type": "code",
   "execution_count": 45,
   "id": "2f2b268b",
   "metadata": {},
   "outputs": [
    {
     "data": {
      "text/plain": [
       "id                            39717\n",
       "member_id                     39717\n",
       "loan_amnt                       885\n",
       "funded_amnt                    1041\n",
       "funded_amnt_inv                8205\n",
       "term                              2\n",
       "int_rate                        371\n",
       "installment                   15383\n",
       "grade                             7\n",
       "sub_grade                        35\n",
       "emp_title                     28820\n",
       "emp_length                       11\n",
       "home_ownership                    5\n",
       "annual_inc                     5318\n",
       "verification_status               3\n",
       "issue_d                          55\n",
       "loan_status                       3\n",
       "pymnt_plan                        1\n",
       "url                           39717\n",
       "desc                          26527\n",
       "purpose                          14\n",
       "title                         19615\n",
       "zip_code                        823\n",
       "addr_state                       50\n",
       "dti                            2868\n",
       "delinq_2yrs                      11\n",
       "earliest_cr_line                526\n",
       "inq_last_6mths                    9\n",
       "mths_since_last_delinq           95\n",
       "mths_since_last_record          111\n",
       "open_acc                         40\n",
       "pub_rec                           5\n",
       "revol_bal                     21711\n",
       "revol_util                     1089\n",
       "total_acc                        82\n",
       "initial_list_status               1\n",
       "out_prncp                      1137\n",
       "out_prncp_inv                  1138\n",
       "total_pymnt                   37850\n",
       "total_pymnt_inv               37518\n",
       "total_rec_prncp                7976\n",
       "total_rec_int                 35148\n",
       "total_rec_late_fee             1356\n",
       "recoveries                     4040\n",
       "collection_recovery_fee        2616\n",
       "last_pymnt_d                    101\n",
       "last_pymnt_amnt               34930\n",
       "next_pymnt_d                      2\n",
       "last_credit_pull_d              106\n",
       "collections_12_mths_ex_med        1\n",
       "policy_code                       1\n",
       "application_type                  1\n",
       "acc_now_delinq                    1\n",
       "chargeoff_within_12_mths          1\n",
       "delinq_amnt                       1\n",
       "pub_rec_bankruptcies              3\n",
       "tax_liens                         1\n",
       "dtype: int64"
      ]
     },
     "execution_count": 45,
     "metadata": {},
     "output_type": "execute_result"
    }
   ],
   "source": [
    "#Check for unique values\n",
    "ds.nunique(axis=0)"
   ]
  },
  {
   "cell_type": "code",
   "execution_count": 46,
   "id": "c3b2d886",
   "metadata": {},
   "outputs": [],
   "source": [
    "#Drop all the coulmns which have only one unique value as they don't give us any info on loan can be defaulted or not\n",
    "ds=ds.loc[:,ds.apply(pd.Series.nunique) != 1]"
   ]
  },
  {
   "cell_type": "code",
   "execution_count": 47,
   "id": "f635e6a3",
   "metadata": {},
   "outputs": [
    {
     "data": {
      "text/plain": [
       "id                         39717\n",
       "member_id                  39717\n",
       "loan_amnt                    885\n",
       "funded_amnt                 1041\n",
       "funded_amnt_inv             8205\n",
       "term                           2\n",
       "int_rate                     371\n",
       "installment                15383\n",
       "grade                          7\n",
       "sub_grade                     35\n",
       "emp_title                  28820\n",
       "emp_length                    11\n",
       "home_ownership                 5\n",
       "annual_inc                  5318\n",
       "verification_status            3\n",
       "issue_d                       55\n",
       "loan_status                    3\n",
       "url                        39717\n",
       "desc                       26527\n",
       "purpose                       14\n",
       "title                      19615\n",
       "zip_code                     823\n",
       "addr_state                    50\n",
       "dti                         2868\n",
       "delinq_2yrs                   11\n",
       "earliest_cr_line             526\n",
       "inq_last_6mths                 9\n",
       "mths_since_last_delinq        95\n",
       "mths_since_last_record       111\n",
       "open_acc                      40\n",
       "pub_rec                        5\n",
       "revol_bal                  21711\n",
       "revol_util                  1089\n",
       "total_acc                     82\n",
       "out_prncp                   1137\n",
       "out_prncp_inv               1138\n",
       "total_pymnt                37850\n",
       "total_pymnt_inv            37518\n",
       "total_rec_prncp             7976\n",
       "total_rec_int              35148\n",
       "total_rec_late_fee          1356\n",
       "recoveries                  4040\n",
       "collection_recovery_fee     2616\n",
       "last_pymnt_d                 101\n",
       "last_pymnt_amnt            34930\n",
       "next_pymnt_d                   2\n",
       "last_credit_pull_d           106\n",
       "pub_rec_bankruptcies           3\n",
       "dtype: int64"
      ]
     },
     "execution_count": 47,
     "metadata": {},
     "output_type": "execute_result"
    }
   ],
   "source": [
    "ds.nunique(axis=0)"
   ]
  },
  {
   "cell_type": "code",
   "execution_count": 48,
   "id": "88c1d887",
   "metadata": {},
   "outputs": [],
   "source": [
    "# Drop the columns which will is of only text type\n",
    "ds.drop(\"url\", axis=1, inplace=True)\n",
    "ds.drop(\"desc\", axis=1, inplace=True)\n",
    "ds.drop(\"title\", axis=1, inplace=True)\n",
    "ds.drop(\"emp_title\", axis=1, inplace=True)\n",
    "ds.drop(\"zip_code\", axis=1, inplace=True)\n",
    "ds.drop(\"addr_state\", axis=1, inplace=True)\n",
    "#Drop the unnceseesary id values\n",
    "ds.drop(\"member_id\", axis=1, inplace=True)\n",
    "ds.drop(\"id\", axis=1, inplace=True)"
   ]
  },
  {
   "cell_type": "code",
   "execution_count": 49,
   "id": "6429014a",
   "metadata": {},
   "outputs": [],
   "source": [
    "# Remove the fields which is applicable after the loan is approved.These columns cannot decide load defaulted or not.\n",
    "\n",
    "ds.drop(\"mths_since_last_delinq\", axis=1, inplace=True)\n",
    "ds.drop(\"mths_since_last_record\", axis=1, inplace=True)\n",
    "ds.drop(\"next_pymnt_d\", axis=1, inplace=True)\n",
    "ds.drop(\"total_acc\", axis=1, inplace=True)\n",
    "ds.drop(\"total_pymnt\", axis=1, inplace=True)\n",
    "ds.drop(\"total_pymnt_inv\", axis=1, inplace=True)\n",
    "ds.drop(\"total_rec_int\", axis=1, inplace=True)\n",
    "ds.drop(\"total_rec_late_fee\", axis=1, inplace=True)\n",
    "ds.drop(\"total_rec_prncp\", axis=1, inplace=True)\n",
    "ds.drop(\"last_pymnt_d\", axis=1, inplace=True)\n",
    "ds.drop(\"last_credit_pull_d\", axis=1, inplace=True)\n",
    "ds.drop(\"earliest_cr_line\", axis=1, inplace=True)\n",
    "ds.drop(\"inq_last_6mths\", axis=1, inplace=True)\n",
    "ds.drop(\"open_acc\", axis=1, inplace=True)\n",
    "ds.drop(\"pub_rec\", axis=1, inplace=True)\n",
    "ds.drop(\"revol_bal\", axis=1, inplace=True)\n",
    "ds.drop(\"out_prncp\", axis=1, inplace=True)\n",
    "ds.drop(\"recoveries\", axis=1, inplace=True)\n",
    "ds.drop(\"collection_recovery_fee\", axis=1, inplace=True)\n",
    "ds.drop(\"last_pymnt_amnt\", axis=1, inplace=True)\n",
    "ds.drop(\"revol_util\", axis=1, inplace=True)\n",
    "ds.drop(\"out_prncp_inv\", axis=1, inplace=True)\n",
    "ds.drop(\"delinq_2yrs\", axis=1, inplace=True)"
   ]
  },
  {
   "cell_type": "markdown",
   "id": "dbb87def",
   "metadata": {},
   "source": [
    "**Fill the null values for two columns emp_length,pub_rec_bankruptcies with default values**"
   ]
  },
  {
   "cell_type": "code",
   "execution_count": 50,
   "id": "c889fc44",
   "metadata": {},
   "outputs": [],
   "source": [
    "#Fill emploment length null values as 1000 to indentify that as missing  value for analysis since it is not a practical number and also replace < 1 year with 0.5 for analysis. Convert the employee lenght to numeric for our analysis          \n",
    "ds.emp_length=ds.emp_length.str.replace(\"< 1 year\", \"0.5 year\", regex=True)\n",
    "ds['emp_length'] = ds['emp_length'].fillna('1000 years')\n",
    "ds.emp_length=(ds.emp_length.str.extract('(\\d+)'))\n",
    "ds.emp_length=ds.emp_length.apply(pd.to_numeric)"
   ]
  },
  {
   "cell_type": "code",
   "execution_count": 51,
   "id": "c2eaefb6",
   "metadata": {},
   "outputs": [
    {
     "data": {
      "text/plain": [
       "10      8879\n",
       "0       4583\n",
       "2       4388\n",
       "3       4095\n",
       "4       3436\n",
       "5       3282\n",
       "1       3240\n",
       "6       2229\n",
       "7       1773\n",
       "8       1479\n",
       "9       1258\n",
       "1000    1075\n",
       "Name: emp_length, dtype: int64"
      ]
     },
     "execution_count": 51,
     "metadata": {},
     "output_type": "execute_result"
    }
   ],
   "source": [
    "ds['emp_length'].value_counts()"
   ]
  },
  {
   "cell_type": "code",
   "execution_count": 52,
   "id": "a6fd8bf2",
   "metadata": {},
   "outputs": [],
   "source": [
    "#Replace missing/null values in pub_rec_bankruptcies with string \"NOTAVAILABLE\"\n",
    "ds['pub_rec_bankruptcies'] = ds['pub_rec_bankruptcies'].fillna('NOTAVAILABLE')"
   ]
  },
  {
   "cell_type": "code",
   "execution_count": 53,
   "id": "138cc720",
   "metadata": {},
   "outputs": [
    {
     "data": {
      "text/plain": [
       "0.0             37339\n",
       "1.0              1674\n",
       "NOTAVAILABLE      697\n",
       "2.0                 7\n",
       "Name: pub_rec_bankruptcies, dtype: int64"
      ]
     },
     "execution_count": 53,
     "metadata": {},
     "output_type": "execute_result"
    }
   ],
   "source": [
    "#Check the values now on pub_rec_bankruptcies\n",
    "ds['pub_rec_bankruptcies'].value_counts()"
   ]
  },
  {
   "cell_type": "code",
   "execution_count": 54,
   "id": "c51a5972",
   "metadata": {},
   "outputs": [
    {
     "data": {
      "text/plain": [
       "loan_amnt               0\n",
       "funded_amnt             0\n",
       "funded_amnt_inv         0\n",
       "term                    0\n",
       "int_rate                0\n",
       "installment             0\n",
       "grade                   0\n",
       "sub_grade               0\n",
       "emp_length              0\n",
       "home_ownership          0\n",
       "annual_inc              0\n",
       "verification_status     0\n",
       "issue_d                 0\n",
       "loan_status             0\n",
       "purpose                 0\n",
       "dti                     0\n",
       "pub_rec_bankruptcies    0\n",
       "dtype: int64"
      ]
     },
     "execution_count": 54,
     "metadata": {},
     "output_type": "execute_result"
    }
   ],
   "source": [
    "#Validate the dataset for null values. Since we have treated all the null values we are done with data \n",
    "#Cleaning we can proceed with data analysis\n",
    "ds.isnull().sum()"
   ]
  },
  {
   "cell_type": "code",
   "execution_count": 55,
   "id": "62d24008",
   "metadata": {},
   "outputs": [],
   "source": [
    "# We are intrested only on the loans that are Fully paid and Charged off. \n",
    "#For the loads that are current we don't whether they will be defaulted or not So removing them\n",
    "ds = ds[~(ds.loan_status == \"Current\")]"
   ]
  },
  {
   "cell_type": "code",
   "execution_count": 56,
   "id": "c3b30063",
   "metadata": {},
   "outputs": [
    {
     "data": {
      "image/png": "[encoded data removed]",
      "text/plain": [
       "<Figure size 432x288 with 1 Axes>"
      ]
     },
     "metadata": {},
     "output_type": "display_data"
    }
   ],
   "source": [
    "#Confirm the loan status contains only two status\n",
    "ds['loan_status'].value_counts().plot.pie()\n",
    "plt.show()"
   ]
  },
  {
   "cell_type": "markdown",
   "id": "c2e95cfb",
   "metadata": {},
   "source": [
    "**Handling Outliers**"
   ]
  },
  {
   "cell_type": "code",
   "execution_count": 57,
   "id": "06e09390",
   "metadata": {},
   "outputs": [
    {
     "data": {
      "image/png": "[encoded data removed]",
      "text/plain": [
       "<Figure size 432x288 with 1 Axes>"
      ]
     },
     "metadata": {
      "needs_background": "light"
     },
     "output_type": "display_data"
    }
   ],
   "source": [
    "ds.annual_inc.describe()\n",
    "sns.boxplot(ds['annual_inc'])\n",
    "plt.show()"
   ]
  },
  {
   "cell_type": "code",
   "execution_count": 58,
   "id": "8ce550b2",
   "metadata": {},
   "outputs": [
    {
     "data": {
      "text/plain": [
       "0.25     40000.0\n",
       "0.75     82000.0\n",
       "0.95    140004.0\n",
       "Name: annual_inc, dtype: float64"
      ]
     },
     "execution_count": 58,
     "metadata": {},
     "output_type": "execute_result"
    }
   ],
   "source": [
    "#From the above box plot there are clearly outliers present in annual income. Get the percentile values to confirm and to remove  outliers\n",
    "quantile_info = ds.annual_inc.quantile([0.25, 0.75,0.95])\n",
    "quantile_info"
   ]
  },
  {
   "cell_type": "code",
   "execution_count": 59,
   "id": "f8c10453",
   "metadata": {},
   "outputs": [],
   "source": [
    "#We can see that there is drastic jump in values after 95th quantile. Removing this outliers from annual income\n",
    "annual_inc_95Percentile = ds['annual_inc'].quantile(0.95)\n",
    "ds = ds[ds.annual_inc <= annual_inc_95Percentile]"
   ]
  },
  {
   "cell_type": "code",
   "execution_count": 60,
   "id": "23e4a5b4",
   "metadata": {
    "scrolled": true
   },
   "outputs": [
    {
     "data": {
      "image/png": "[encoded data removed]",
      "text/plain": [
       "<Figure size 432x288 with 1 Axes>"
      ]
     },
     "metadata": {
      "needs_background": "light"
     },
     "output_type": "display_data"
    }
   ],
   "source": [
    "#Validate the boxplot now how the annual income looks like and make sure there are no outliers\n",
    "sns.boxplot(ds['annual_inc'])\n",
    "plt.show()"
   ]
  },
  {
   "cell_type": "markdown",
   "id": "d397238b",
   "metadata": {},
   "source": [
    "# <a id='1'>1.Uni-Variate Analysis</a>"
   ]
  },
  {
   "cell_type": "code",
   "execution_count": 61,
   "id": "293e49fe",
   "metadata": {},
   "outputs": [
    {
     "data": {
      "image/png": "[encoded data removed]",
      "text/plain": [
       "<Figure size 432x288 with 1 Axes>"
      ]
     },
     "metadata": {
      "needs_background": "light"
     },
     "output_type": "display_data"
    }
   ],
   "source": [
    "##plot a graph to analyse home_ownership for taking more loans\n",
    "ds.home_ownership.value_counts()\n",
    "sns.countplot(x=\"home_ownership\", data=ds)\n",
    "plt.show()"
   ]
  },
  {
   "cell_type": "markdown",
   "id": "bd672feb",
   "metadata": {},
   "source": [
    "**Observations**\n",
    "\n",
    " People choose loans in order to pay the rent"
   ]
  },
  {
   "cell_type": "code",
   "execution_count": 62,
   "id": "11db3204",
   "metadata": {},
   "outputs": [
    {
     "data": {
      "image/png": "[encoded data removed]",
      "text/plain": [
       "<Figure size 432x288 with 1 Axes>"
      ]
     },
     "metadata": {
      "needs_background": "light"
     },
     "output_type": "display_data"
    }
   ],
   "source": [
    "#plot a graph to check purpose for which more loans are requested for\n",
    "ds.purpose.value_counts()\n",
    "sns.countplot(y=\"purpose\", data=ds)\n",
    "plt.show()"
   ]
  },
  {
   "cell_type": "markdown",
   "id": "7e5e1c22",
   "metadata": {},
   "source": [
    "**Observations**\n",
    "\n",
    "The purpose for which loan amount is used is for paying debt consoldiation followed by credit call bill payment\n"
   ]
  },
  {
   "cell_type": "markdown",
   "id": "fec3313b",
   "metadata": {},
   "source": [
    "# <a id='2'>2.Segmented UniVariate Analysis</a>"
   ]
  },
  {
   "cell_type": "code",
   "execution_count": 63,
   "id": "ab42ade8",
   "metadata": {},
   "outputs": [
    {
     "data": {
      "image/png": "[encoded data removed]",
      "text/plain": [
       "<Figure size 432x288 with 1 Axes>"
      ]
     },
     "metadata": {
      "needs_background": "light"
     },
     "output_type": "display_data"
    }
   ],
   "source": [
    "#plot a graph to check grade for which more defaulted loans are present\n",
    "sns.countplot(x = 'grade', data = ds[ds.loan_status == 'Charged Off'], order = ['A', 'B', 'C', 'D', 'E', 'F', 'G'])\n",
    "plt.show()"
   ]
  },
  {
   "cell_type": "markdown",
   "id": "bd279afc",
   "metadata": {},
   "source": [
    "**Observations**\n",
    "Grade B has more percentage of defauluting the loan\n"
   ]
  },
  {
   "cell_type": "code",
   "execution_count": 64,
   "id": "d231024a",
   "metadata": {},
   "outputs": [
    {
     "data": {
      "text/plain": [
       "<bound method NDFrame.head of 0        B2\n",
       "1        C4\n",
       "2        C5\n",
       "3        C1\n",
       "5        A4\n",
       "         ..\n",
       "39711    B1\n",
       "39712    A4\n",
       "39713    C1\n",
       "39714    A4\n",
       "39716    E2\n",
       "Name: sub_grade, Length: 36654, dtype: object>"
      ]
     },
     "execution_count": 64,
     "metadata": {},
     "output_type": "execute_result"
    }
   ],
   "source": [
    "ds.sub_grade.head"
   ]
  },
  {
   "cell_type": "code",
   "execution_count": 65,
   "id": "45104ffe",
   "metadata": {},
   "outputs": [
    {
     "data": {
      "text/plain": [
       "0    2\n",
       "1    4\n",
       "2    5\n",
       "3    1\n",
       "5    4\n",
       "Name: sub_grade, dtype: int64"
      ]
     },
     "execution_count": 65,
     "metadata": {},
     "output_type": "execute_result"
    }
   ],
   "source": [
    "#Remove preceeding grade values from Subgrade column for easiler analysis\n",
    "ds.sub_grade = pd.to_numeric(ds.sub_grade.apply(lambda x : x[-1]))\n",
    "ds.sub_grade.head()"
   ]
  },
  {
   "cell_type": "code",
   "execution_count": 66,
   "id": "2b64ac6e",
   "metadata": {
    "scrolled": true
   },
   "outputs": [
    {
     "data": {
      "image/png": "[encoded data removed]",
      "text/plain": [
       "<Figure size 432x288 with 1 Axes>"
      ]
     },
     "metadata": {
      "needs_background": "light"
     },
     "output_type": "display_data"
    }
   ],
   "source": [
    "#plot a graph to check grade and subgrade for which more defaulted loans are present\n",
    "fig, ax = plt.subplots()\n",
    "sns.countplot(x = 'grade', order = ['A', 'B', 'C', 'D', 'E', 'F', 'G'] , hue = 'sub_grade',data = ds[ds.loan_status == 'Charged Off'])\n",
    "plt.show()"
   ]
  },
  {
   "cell_type": "markdown",
   "id": "8d1228f6",
   "metadata": {},
   "source": [
    "**Observations**\n",
    "Grade B has more percentage of defaulting the loan and in the GradeB Subtyppe of B4 is having more defaulted loans"
   ]
  },
  {
   "cell_type": "markdown",
   "id": "de1147e8",
   "metadata": {},
   "source": [
    "# <a id='2'>3.Bi-Variate Analysis</a>"
   ]
  },
  {
   "cell_type": "code",
   "execution_count": 67,
   "id": "f0ada1c7",
   "metadata": {},
   "outputs": [
    {
     "data": {
      "image/png": "[encoded data removed]",
      "text/plain": [
       "<Figure size 1080x720 with 1 Axes>"
      ]
     },
     "metadata": {
      "needs_background": "light"
     },
     "output_type": "display_data"
    }
   ],
   "source": [
    "# Analyse the graph to check Loan status vs purpose \n",
    "plt.figure(figsize=[15,10])\n",
    "plt.title(\"purpose vs loan status\")\n",
    "sns.countplot(y=\"purpose\",hue=\"loan_status\",data=ds)\n",
    "plt.show()"
   ]
  },
  {
   "cell_type": "markdown",
   "id": "d163cfec",
   "metadata": {},
   "source": [
    "**observation**\n",
    "\n",
    "Most charged off loans are avaiable under debt_consolidation and loans taken for renewable_energy has no defaulted loans means customer who took loans for this purpoe most likely to pay loan amount"
   ]
  },
  {
   "cell_type": "code",
   "execution_count": 68,
   "id": "9a78ed2f",
   "metadata": {},
   "outputs": [
    {
     "data": {
      "image/png": "[encoded data removed]",
      "text/plain": [
       "<Figure size 1080x720 with 1 Axes>"
      ]
     },
     "metadata": {
      "needs_background": "light"
     },
     "output_type": "display_data"
    }
   ],
   "source": [
    "#Analyse the graph to check Loan status vs emp_length\n",
    "plt.figure(figsize=[15,10])\n",
    "plt.title(\"emp_length vs loan status\")\n",
    "sns.countplot(x=\"emp_length\",hue=\"loan_status\",data=ds)\n",
    "plt.show()"
   ]
  },
  {
   "cell_type": "markdown",
   "id": "4fcdc2a2",
   "metadata": {},
   "source": [
    "***observation***\n",
    "\n",
    "Employees more than 10 years experience are having chances of getting defaulted but since there are more loans that is paid as well So we cannot conclude employee service have any significance on loan defaulting."
   ]
  },
  {
   "cell_type": "code",
   "execution_count": 69,
   "id": "e54af793",
   "metadata": {
    "scrolled": false
   },
   "outputs": [
    {
     "data": {
      "image/png": "[encoded data removed]",
      "text/plain": [
       "<Figure size 1080x720 with 1 Axes>"
      ]
     },
     "metadata": {
      "needs_background": "light"
     },
     "output_type": "display_data"
    }
   ],
   "source": [
    "#Analyse the graph to check verification_status vs loan status\n",
    "plt.figure(figsize=[15,10])\n",
    "plt.title(\"verification_status vs loan status\")\n",
    "sns.countplot(x=\"verification_status\",hue=\"loan_status\",data=ds)\n",
    "plt.show()"
   ]
  },
  {
   "cell_type": "code",
   "execution_count": 70,
   "id": "fb0b5ba0",
   "metadata": {},
   "outputs": [
    {
     "data": {
      "text/html": [
       "<style type=\"text/css\">\n",
       "#T_42d67_row0_col0, #T_42d67_row1_col1, #T_42d67_row2_col2, #T_42d67_row3_col3, #T_42d67_row4_col4, #T_42d67_row5_col5, #T_42d67_row6_col6, #T_42d67_row7_col7 {\n",
       "  background-color: #b40426;\n",
       "  color: #f1f1f1;\n",
       "}\n",
       "#T_42d67_row0_col1, #T_42d67_row1_col0 {\n",
       "  background-color: #ba162b;\n",
       "  color: #f1f1f1;\n",
       "}\n",
       "#T_42d67_row0_col2, #T_42d67_row2_col0 {\n",
       "  background-color: #c83836;\n",
       "  color: #f1f1f1;\n",
       "}\n",
       "#T_42d67_row0_col3, #T_42d67_row3_col0 {\n",
       "  background-color: #ca3b37;\n",
       "  color: #f1f1f1;\n",
       "}\n",
       "#T_42d67_row0_col4, #T_42d67_row4_col0 {\n",
       "  background-color: #6282ea;\n",
       "  color: #f1f1f1;\n",
       "}\n",
       "#T_42d67_row0_col5, #T_42d67_row1_col5, #T_42d67_row5_col0, #T_42d67_row5_col1 {\n",
       "  background-color: #4961d2;\n",
       "  color: #f1f1f1;\n",
       "}\n",
       "#T_42d67_row0_col6, #T_42d67_row6_col0 {\n",
       "  background-color: #d3dbe7;\n",
       "  color: #000000;\n",
       "}\n",
       "#T_42d67_row0_col7, #T_42d67_row1_col7, #T_42d67_row7_col0, #T_42d67_row7_col1 {\n",
       "  background-color: #7396f5;\n",
       "  color: #f1f1f1;\n",
       "}\n",
       "#T_42d67_row1_col2, #T_42d67_row2_col1 {\n",
       "  background-color: #c32e31;\n",
       "  color: #f1f1f1;\n",
       "}\n",
       "#T_42d67_row1_col3, #T_42d67_row3_col1 {\n",
       "  background-color: #c12b30;\n",
       "  color: #f1f1f1;\n",
       "}\n",
       "#T_42d67_row1_col4, #T_42d67_row2_col4, #T_42d67_row4_col1, #T_42d67_row4_col2 {\n",
       "  background-color: #5f7fe8;\n",
       "  color: #f1f1f1;\n",
       "}\n",
       "#T_42d67_row1_col6, #T_42d67_row6_col1 {\n",
       "  background-color: #d2dbe8;\n",
       "  color: #000000;\n",
       "}\n",
       "#T_42d67_row2_col3, #T_42d67_row3_col2 {\n",
       "  background-color: #d24b40;\n",
       "  color: #f1f1f1;\n",
       "}\n",
       "#T_42d67_row2_col5, #T_42d67_row5_col2 {\n",
       "  background-color: #4b64d5;\n",
       "  color: #f1f1f1;\n",
       "}\n",
       "#T_42d67_row2_col6, #T_42d67_row6_col2 {\n",
       "  background-color: #cdd9ec;\n",
       "  color: #000000;\n",
       "}\n",
       "#T_42d67_row2_col7, #T_42d67_row7_col2 {\n",
       "  background-color: #7699f6;\n",
       "  color: #f1f1f1;\n",
       "}\n",
       "#T_42d67_row3_col4, #T_42d67_row4_col3, #T_42d67_row4_col7, #T_42d67_row7_col4 {\n",
       "  background-color: #5e7de7;\n",
       "  color: #f1f1f1;\n",
       "}\n",
       "#T_42d67_row3_col5, #T_42d67_row5_col3 {\n",
       "  background-color: #485fd1;\n",
       "  color: #f1f1f1;\n",
       "}\n",
       "#T_42d67_row3_col6, #T_42d67_row6_col3 {\n",
       "  background-color: #d1dae9;\n",
       "  color: #000000;\n",
       "}\n",
       "#T_42d67_row3_col7, #T_42d67_row7_col3 {\n",
       "  background-color: #7093f3;\n",
       "  color: #f1f1f1;\n",
       "}\n",
       "#T_42d67_row4_col5, #T_42d67_row5_col4 {\n",
       "  background-color: #536edd;\n",
       "  color: #f1f1f1;\n",
       "}\n",
       "#T_42d67_row4_col6, #T_42d67_row6_col4 {\n",
       "  background-color: #5b7ae5;\n",
       "  color: #f1f1f1;\n",
       "}\n",
       "#T_42d67_row5_col6, #T_42d67_row6_col5 {\n",
       "  background-color: #3b4cc0;\n",
       "  color: #f1f1f1;\n",
       "}\n",
       "#T_42d67_row5_col7, #T_42d67_row7_col5 {\n",
       "  background-color: #5572df;\n",
       "  color: #f1f1f1;\n",
       "}\n",
       "#T_42d67_row6_col7, #T_42d67_row7_col6 {\n",
       "  background-color: #445acc;\n",
       "  color: #f1f1f1;\n",
       "}\n",
       "</style>\n",
       "<table id=\"T_42d67_\">\n",
       "  <thead>\n",
       "    <tr>\n",
       "      <th class=\"blank level0\" >&nbsp;</th>\n",
       "      <th class=\"col_heading level0 col0\" >loan_amnt</th>\n",
       "      <th class=\"col_heading level0 col1\" >funded_amnt</th>\n",
       "      <th class=\"col_heading level0 col2\" >funded_amnt_inv</th>\n",
       "      <th class=\"col_heading level0 col3\" >installment</th>\n",
       "      <th class=\"col_heading level0 col4\" >sub_grade</th>\n",
       "      <th class=\"col_heading level0 col5\" >emp_length</th>\n",
       "      <th class=\"col_heading level0 col6\" >annual_inc</th>\n",
       "      <th class=\"col_heading level0 col7\" >dti</th>\n",
       "    </tr>\n",
       "  </thead>\n",
       "  <tbody>\n",
       "    <tr>\n",
       "      <th id=\"T_42d67_level0_row0\" class=\"row_heading level0 row0\" >loan_amnt</th>\n",
       "      <td id=\"T_42d67_row0_col0\" class=\"data row0 col0\" >1.000000</td>\n",
       "      <td id=\"T_42d67_row0_col1\" class=\"data row0 col1\" >0.981942</td>\n",
       "      <td id=\"T_42d67_row0_col2\" class=\"data row0 col2\" >0.936925</td>\n",
       "      <td id=\"T_42d67_row0_col3\" class=\"data row0 col3\" >0.931481</td>\n",
       "      <td id=\"T_42d67_row0_col4\" class=\"data row0 col4\" >0.031461</td>\n",
       "      <td id=\"T_42d67_row0_col5\" class=\"data row0 col5\" >-0.053194</td>\n",
       "      <td id=\"T_42d67_row0_col6\" class=\"data row0 col6\" >0.403197</td>\n",
       "      <td id=\"T_42d67_row0_col7\" class=\"data row0 col7\" >0.090313</td>\n",
       "    </tr>\n",
       "    <tr>\n",
       "      <th id=\"T_42d67_level0_row1\" class=\"row_heading level0 row1\" >funded_amnt</th>\n",
       "      <td id=\"T_42d67_row1_col0\" class=\"data row1 col0\" >0.981942</td>\n",
       "      <td id=\"T_42d67_row1_col1\" class=\"data row1 col1\" >1.000000</td>\n",
       "      <td id=\"T_42d67_row1_col2\" class=\"data row1 col2\" >0.954850</td>\n",
       "      <td id=\"T_42d67_row1_col3\" class=\"data row1 col3\" >0.957113</td>\n",
       "      <td id=\"T_42d67_row1_col4\" class=\"data row1 col4\" >0.024139</td>\n",
       "      <td id=\"T_42d67_row1_col5\" class=\"data row1 col5\" >-0.053222</td>\n",
       "      <td id=\"T_42d67_row1_col6\" class=\"data row1 col6\" >0.399030</td>\n",
       "      <td id=\"T_42d67_row1_col7\" class=\"data row1 col7\" >0.089510</td>\n",
       "    </tr>\n",
       "    <tr>\n",
       "      <th id=\"T_42d67_level0_row2\" class=\"row_heading level0 row2\" >funded_amnt_inv</th>\n",
       "      <td id=\"T_42d67_row2_col0\" class=\"data row2 col0\" >0.936925</td>\n",
       "      <td id=\"T_42d67_row2_col1\" class=\"data row2 col1\" >0.954850</td>\n",
       "      <td id=\"T_42d67_row2_col2\" class=\"data row2 col2\" >1.000000</td>\n",
       "      <td id=\"T_42d67_row2_col3\" class=\"data row2 col3\" >0.902641</td>\n",
       "      <td id=\"T_42d67_row2_col4\" class=\"data row2 col4\" >0.025359</td>\n",
       "      <td id=\"T_42d67_row2_col5\" class=\"data row2 col5\" >-0.043639</td>\n",
       "      <td id=\"T_42d67_row2_col6\" class=\"data row2 col6\" >0.382429</td>\n",
       "      <td id=\"T_42d67_row2_col7\" class=\"data row2 col7\" >0.097070</td>\n",
       "    </tr>\n",
       "    <tr>\n",
       "      <th id=\"T_42d67_level0_row3\" class=\"row_heading level0 row3\" >installment</th>\n",
       "      <td id=\"T_42d67_row3_col0\" class=\"data row3 col0\" >0.931481</td>\n",
       "      <td id=\"T_42d67_row3_col1\" class=\"data row3 col1\" >0.957113</td>\n",
       "      <td id=\"T_42d67_row3_col2\" class=\"data row3 col2\" >0.902641</td>\n",
       "      <td id=\"T_42d67_row3_col3\" class=\"data row3 col3\" >1.000000</td>\n",
       "      <td id=\"T_42d67_row3_col4\" class=\"data row3 col4\" >0.017986</td>\n",
       "      <td id=\"T_42d67_row3_col5\" class=\"data row3 col5\" >-0.058377</td>\n",
       "      <td id=\"T_42d67_row3_col6\" class=\"data row3 col6\" >0.398193</td>\n",
       "      <td id=\"T_42d67_row3_col7\" class=\"data row3 col7\" >0.079392</td>\n",
       "    </tr>\n",
       "    <tr>\n",
       "      <th id=\"T_42d67_level0_row4\" class=\"row_heading level0 row4\" >sub_grade</th>\n",
       "      <td id=\"T_42d67_row4_col0\" class=\"data row4 col0\" >0.031461</td>\n",
       "      <td id=\"T_42d67_row4_col1\" class=\"data row4 col1\" >0.024139</td>\n",
       "      <td id=\"T_42d67_row4_col2\" class=\"data row4 col2\" >0.025359</td>\n",
       "      <td id=\"T_42d67_row4_col3\" class=\"data row4 col3\" >0.017986</td>\n",
       "      <td id=\"T_42d67_row4_col4\" class=\"data row4 col4\" >1.000000</td>\n",
       "      <td id=\"T_42d67_row4_col5\" class=\"data row4 col5\" >-0.017211</td>\n",
       "      <td id=\"T_42d67_row4_col6\" class=\"data row4 col6\" >0.009193</td>\n",
       "      <td id=\"T_42d67_row4_col7\" class=\"data row4 col7\" >0.018002</td>\n",
       "    </tr>\n",
       "    <tr>\n",
       "      <th id=\"T_42d67_level0_row5\" class=\"row_heading level0 row5\" >emp_length</th>\n",
       "      <td id=\"T_42d67_row5_col0\" class=\"data row5 col0\" >-0.053194</td>\n",
       "      <td id=\"T_42d67_row5_col1\" class=\"data row5 col1\" >-0.053222</td>\n",
       "      <td id=\"T_42d67_row5_col2\" class=\"data row5 col2\" >-0.043639</td>\n",
       "      <td id=\"T_42d67_row5_col3\" class=\"data row5 col3\" >-0.058377</td>\n",
       "      <td id=\"T_42d67_row5_col4\" class=\"data row5 col4\" >-0.017211</td>\n",
       "      <td id=\"T_42d67_row5_col5\" class=\"data row5 col5\" >1.000000</td>\n",
       "      <td id=\"T_42d67_row5_col6\" class=\"data row5 col6\" >-0.107812</td>\n",
       "      <td id=\"T_42d67_row5_col7\" class=\"data row5 col7\" >-0.011162</td>\n",
       "    </tr>\n",
       "    <tr>\n",
       "      <th id=\"T_42d67_level0_row6\" class=\"row_heading level0 row6\" >annual_inc</th>\n",
       "      <td id=\"T_42d67_row6_col0\" class=\"data row6 col0\" >0.403197</td>\n",
       "      <td id=\"T_42d67_row6_col1\" class=\"data row6 col1\" >0.399030</td>\n",
       "      <td id=\"T_42d67_row6_col2\" class=\"data row6 col2\" >0.382429</td>\n",
       "      <td id=\"T_42d67_row6_col3\" class=\"data row6 col3\" >0.398193</td>\n",
       "      <td id=\"T_42d67_row6_col4\" class=\"data row6 col4\" >0.009193</td>\n",
       "      <td id=\"T_42d67_row6_col5\" class=\"data row6 col5\" >-0.107812</td>\n",
       "      <td id=\"T_42d67_row6_col6\" class=\"data row6 col6\" >1.000000</td>\n",
       "      <td id=\"T_42d67_row6_col7\" class=\"data row6 col7\" >-0.072641</td>\n",
       "    </tr>\n",
       "    <tr>\n",
       "      <th id=\"T_42d67_level0_row7\" class=\"row_heading level0 row7\" >dti</th>\n",
       "      <td id=\"T_42d67_row7_col0\" class=\"data row7 col0\" >0.090313</td>\n",
       "      <td id=\"T_42d67_row7_col1\" class=\"data row7 col1\" >0.089510</td>\n",
       "      <td id=\"T_42d67_row7_col2\" class=\"data row7 col2\" >0.097070</td>\n",
       "      <td id=\"T_42d67_row7_col3\" class=\"data row7 col3\" >0.079392</td>\n",
       "      <td id=\"T_42d67_row7_col4\" class=\"data row7 col4\" >0.018002</td>\n",
       "      <td id=\"T_42d67_row7_col5\" class=\"data row7 col5\" >-0.011162</td>\n",
       "      <td id=\"T_42d67_row7_col6\" class=\"data row7 col6\" >-0.072641</td>\n",
       "      <td id=\"T_42d67_row7_col7\" class=\"data row7 col7\" >1.000000</td>\n",
       "    </tr>\n",
       "  </tbody>\n",
       "</table>\n"
      ],
      "text/plain": [
       "<pandas.io.formats.style.Styler at 0x1bc178ff4f0>"
      ]
     },
     "execution_count": 70,
     "metadata": {},
     "output_type": "execute_result"
    }
   ],
   "source": [
    "#Check to see what columns are most correlatable\n",
    "loan_corr=ds.corr()\n",
    "loan_corr.style.background_gradient(cmap='coolwarm', axis=None)"
   ]
  },
  {
   "cell_type": "markdown",
   "id": "e1693602",
   "metadata": {},
   "source": [
    "**Observations**\n",
    "\n",
    "Loan_amnt is most correaltable with Installment "
   ]
  },
  {
   "cell_type": "code",
   "execution_count": 71,
   "id": "c182ce7a",
   "metadata": {},
   "outputs": [
    {
     "data": {
      "image/png": "[encoded data removed]",
      "text/plain": [
       "<Figure size 936x576 with 1 Axes>"
      ]
     },
     "metadata": {
      "needs_background": "light"
     },
     "output_type": "display_data"
    }
   ],
   "source": [
    "#Now create a new derived column called annual_inc_groups to understand and identify range of incomes at which loan defaulters exist\n",
    "ds['annual_inc_groups'] = pd.cut(ds['annual_inc'], bins=5,labels =['3k-31k','31k-58k','58k-85k','85k-112k','112k-140k'])\n",
    "fig, ax = plt.subplots(figsize = (13,8))\n",
    "sns.countplot(x='annual_inc_groups', data=ds[ds.loan_status == 'Charged Off'])\n",
    "plt.title(\"Income Groups that has more chances of defaulting\")\n",
    "plt.show()"
   ]
  },
  {
   "cell_type": "markdown",
   "id": "4145fa41",
   "metadata": {},
   "source": [
    "**Observations**\n",
    "\n",
    "Income group 31k-58k are more prone to defaulting"
   ]
  },
  {
   "cell_type": "code",
   "execution_count": 72,
   "id": "0ec39603",
   "metadata": {},
   "outputs": [
    {
     "data": {
      "image/png": "[encoded data removed]",
      "text/plain": [
       "<Figure size 936x576 with 1 Axes>"
      ]
     },
     "metadata": {
      "needs_background": "light"
     },
     "output_type": "display_data"
    }
   ],
   "source": [
    "#Lets see for which year the loans given have highest charged off\n",
    "ds['issued_year']=(pd.to_datetime(ds.issue_d, format='%b-%y')).dt.year\n",
    "fig, ax = plt.subplots(figsize = (13,8))\n",
    "sns.countplot(x='issued_year',data=ds[ds.loan_status == 'Charged Off'])\n",
    "plt.title(\"Year at which more loans are defaulted\")\n",
    "plt.show()"
   ]
  },
  {
   "cell_type": "code",
   "execution_count": 73,
   "id": "7bc1df43",
   "metadata": {},
   "outputs": [
    {
     "data": {
      "image/png": "[encoded data removed]",
      "text/plain": [
       "<Figure size 1080x720 with 1 Axes>"
      ]
     },
     "metadata": {
      "needs_background": "light"
     },
     "output_type": "display_data"
    }
   ],
   "source": [
    "#Lets see for which pub_rec_bankruptcies the loans given have highest charged off\n",
    "plt.figure(figsize=[15,10])\n",
    "plt.title(\"pub_rec_bankruptcies vs loan status\")\n",
    "sns.countplot(x=\"pub_rec_bankruptcies\",data=ds[ds.loan_status == 'Charged Off'])\n",
    "plt.show()"
   ]
  },
  {
   "cell_type": "markdown",
   "id": "9e35b062",
   "metadata": {},
   "source": [
    "**Observations**\n",
    "\n",
    "People with 0 public record Bankruptcy records have more chances of becoming defaulters which means lending company cannot depend on the information of bank rupticies to know if a particular customer can be defaulted or not"
   ]
  },
  {
   "cell_type": "code",
   "execution_count": 74,
   "id": "120b21ed",
   "metadata": {},
   "outputs": [
    {
     "data": {
      "image/png": "[encoded data removed]",
      "text/plain": [
       "<Figure size 720x720 with 1 Axes>"
      ]
     },
     "metadata": {
      "needs_background": "light"
     },
     "output_type": "display_data"
    }
   ],
   "source": [
    "#Compare for which grades there are more loans are requested and there are more defaults\n",
    "plt.figure(figsize=(10,10))\n",
    "plt.title(\"Grades who have more defaulters comapared to Fully Paid Loans\")\n",
    "sns.barplot(data =ds,y='loan_amnt', x='grade', hue ='loan_status', order=['A','B','C','D','E','F','G'])\n",
    "plt.show()"
   ]
  },
  {
   "cell_type": "markdown",
   "id": "0b6a5d4b",
   "metadata": {},
   "source": [
    "**Observations**\n",
    "\n",
    "For grade F there are more defaulters than people who actually paid the loan and for grade G there are more people who paid loan that defaulters"
   ]
  },
  {
   "cell_type": "code",
   "execution_count": 76,
   "id": "d5cb07d4",
   "metadata": {
    "scrolled": true
   },
   "outputs": [
    {
     "data": {
      "image/png": "[encoded data removed]",
      "text/plain": [
       "<Figure size 432x288 with 1 Axes>"
      ]
     },
     "metadata": {
      "needs_background": "light"
     },
     "output_type": "display_data"
    }
   ],
   "source": [
    "ds['dti_groups'] = pd.cut(ds['dti'], bins=5,precision =0,labels=['0-6','6-12','12-18','18-24','24-30'])\n",
    "plt.title(\"Dti value analysis for defaulters\")\n",
    "sns.countplot(x='dti_groups', data=ds[ds['loan_status']=='Charged Off'])\n",
    "plt.show()"
   ]
  },
  {
   "cell_type": "markdown",
   "id": "f2cfd527",
   "metadata": {},
   "source": [
    "**Observations**\n",
    "\n",
    "People falling under 12-18 % Dti has more chances of defaulting"
   ]
  },
  {
   "cell_type": "code",
   "execution_count": 77,
   "id": "20f2b0b0",
   "metadata": {},
   "outputs": [
    {
     "data": {
      "text/html": [
       "<div>\n",
       "<style scoped>\n",
       "    .dataframe tbody tr th:only-of-type {\n",
       "        vertical-align: middle;\n",
       "    }\n",
       "\n",
       "    .dataframe tbody tr th {\n",
       "        vertical-align: top;\n",
       "    }\n",
       "\n",
       "    .dataframe thead th {\n",
       "        text-align: right;\n",
       "    }\n",
       "</style>\n",
       "<table border=\"1\" class=\"dataframe\">\n",
       "  <thead>\n",
       "    <tr style=\"text-align: right;\">\n",
       "      <th></th>\n",
       "      <th>loan_amnt</th>\n",
       "      <th>funded_amnt</th>\n",
       "      <th>funded_amnt_inv</th>\n",
       "      <th>int_rate</th>\n",
       "      <th>installment</th>\n",
       "      <th>sub_grade</th>\n",
       "      <th>emp_length</th>\n",
       "      <th>annual_inc</th>\n",
       "      <th>dti</th>\n",
       "      <th>issued_year</th>\n",
       "    </tr>\n",
       "    <tr>\n",
       "      <th>loan_status</th>\n",
       "      <th></th>\n",
       "      <th></th>\n",
       "      <th></th>\n",
       "      <th></th>\n",
       "      <th></th>\n",
       "      <th></th>\n",
       "      <th></th>\n",
       "      <th></th>\n",
       "      <th></th>\n",
       "      <th></th>\n",
       "    </tr>\n",
       "  </thead>\n",
       "  <tbody>\n",
       "    <tr>\n",
       "      <th>Charged Off</th>\n",
       "      <td>11812.260059</td>\n",
       "      <td>11484.616094</td>\n",
       "      <td>10620.240688</td>\n",
       "      <td>13.757817</td>\n",
       "      <td>327.941161</td>\n",
       "      <td>3.047619</td>\n",
       "      <td>46.374677</td>\n",
       "      <td>56441.758234</td>\n",
       "      <td>14.105788</td>\n",
       "      <td>2010.365264</td>\n",
       "    </tr>\n",
       "    <tr>\n",
       "      <th>Fully Paid</th>\n",
       "      <td>10486.245038</td>\n",
       "      <td>10254.282719</td>\n",
       "      <td>9768.243665</td>\n",
       "      <td>11.563767</td>\n",
       "      <td>309.104320</td>\n",
       "      <td>3.052087</td>\n",
       "      <td>30.011077</td>\n",
       "      <td>61621.375137</td>\n",
       "      <td>13.332407</td>\n",
       "      <td>2010.298470</td>\n",
       "    </tr>\n",
       "  </tbody>\n",
       "</table>\n",
       "</div>"
      ],
      "text/plain": [
       "                loan_amnt   funded_amnt  funded_amnt_inv   int_rate  \\\n",
       "loan_status                                                           \n",
       "Charged Off  11812.260059  11484.616094     10620.240688  13.757817   \n",
       "Fully Paid   10486.245038  10254.282719      9768.243665  11.563767   \n",
       "\n",
       "             installment  sub_grade  emp_length    annual_inc        dti  \\\n",
       "loan_status                                                                \n",
       "Charged Off   327.941161   3.047619   46.374677  56441.758234  14.105788   \n",
       "Fully Paid    309.104320   3.052087   30.011077  61621.375137  13.332407   \n",
       "\n",
       "             issued_year  \n",
       "loan_status               \n",
       "Charged Off  2010.365264  \n",
       "Fully Paid   2010.298470  "
      ]
     },
     "execution_count": 77,
     "metadata": {},
     "output_type": "execute_result"
    }
   ],
   "source": [
    "ds['int_rate'] = ds['int_rate'].apply(lambda x : float(x.rstrip('%')))\n",
    "ds.groupby(by='loan_status').agg('mean')"
   ]
  },
  {
   "cell_type": "markdown",
   "id": "6551be4c",
   "metadata": {},
   "source": [
    "**Observations**\n",
    "Intreset rate average is 13.7 where as for fully paid loans it will be 11.5. So if intrest rate is greated than 11 % chances of defaulting is more"
   ]
  }
 ],
 "metadata": {
  "kernelspec": {
   "display_name": "Python 3 (ipykernel)",
   "language": "python",
   "name": "python3"
  },
  "language_info": {
   "codemirror_mode": {
    "name": "ipython",
    "version": 3
   },
   "file_extension": ".py",
   "mimetype": "text/x-python",
   "name": "python",
   "nbconvert_exporter": "python",
   "pygments_lexer": "ipython3",
   "version": "3.9.7"
  }
 },
 "nbformat": 4,
 "nbformat_minor": 5
}
